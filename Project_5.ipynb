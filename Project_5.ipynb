{
  "nbformat": 4,
  "nbformat_minor": 0,
  "metadata": {
    "colab": {
      "provenance": [],
      "authorship_tag": "ABX9TyNAIkVQN7afV4qISMgw8xvh",
      "include_colab_link": true
    },
    "kernelspec": {
      "name": "python3",
      "display_name": "Python 3"
    },
    "language_info": {
      "name": "python"
    }
  },
  "cells": [
    {
      "cell_type": "markdown",
      "metadata": {
        "id": "view-in-github",
        "colab_type": "text"
      },
      "source": [
        "<a href=\"https://colab.research.google.com/github/sk-supto/EDGE/blob/main/Project_5.ipynb\" target=\"_parent\"><img src=\"https://colab.research.google.com/assets/colab-badge.svg\" alt=\"Open In Colab\"/></a>"
      ]
    },
    {
      "cell_type": "code",
      "execution_count": null,
      "metadata": {
        "id": "4PXLOl-fHbBz"
      },
      "outputs": [],
      "source": [
        "import pandas as pd\n",
        "import numpy as np\n",
        "import matplotlib.pyplot as plt\n",
        "import os\n",
        "import re\n",
        "\n",
        "class ExpenseTracker:\n",
        "    def __init__(self):\n",
        "        self.categories = [\"Food\", \"Transport\", \"Entertainment\", \"Utilities\", \"Others\"]\n",
        "        data = {\n",
        "            \"Date\": [\"2024-12-01\", \"2024-12-01\", \"2024-12-02\", \"2024-12-02\", \"2024-12-03\"],\n",
        "            \"Category\": [\"Food\", \"Transport\", \"Entertainment\", \"Utilities\", \"Food\"],\n",
        "            \"Description\": [\"Groceries\", \"Bus Fare\", \"Movie\", \"Electric Bill\", \"Dinner\"],\n",
        "            \"Amount\": [50.0, 15.0, 20.0, 100.0, 30.0]\n",
        "        }\n",
        "        self.data = pd.DataFrame(data)\n",
        "\n",
        "    def analyze(self):\n",
        "        category_totals = self.data.groupby(\"Category\")[\"Amount\"].sum()\n",
        "        highest = category_totals.idxmax() if not category_totals.empty else None\n",
        "        lowest = category_totals.idxmin() if not category_totals.empty else None\n",
        "        daily = self.data.groupby(\"Date\")[\"Amount\"].sum()\n",
        "        return category_totals, highest, lowest, daily\n",
        "\n",
        "    def visualize(self):\n",
        "        category_totals = self.data.groupby(\"Category\")[\"Amount\"].sum()\n",
        "        plt.bar(category_totals.index, category_totals.values, color=\"skyblue\")\n",
        "        plt.title(\"Spending by Category\")\n",
        "        plt.xlabel(\"Category\")\n",
        "        plt.ylabel(\"Total Spending\")\n",
        "        plt.tight_layout()\n",
        "        plt.show()\n",
        "\n",
        "        daily = self.data.groupby(\"Date\")[\"Amount\"].sum()\n",
        "        plt.plot(daily.index, daily.values, marker=\"o\", color=\"green\", linestyle='-', linewidth=2, markersize=8)\n",
        "        plt.title(\"Daily Spending\")\n",
        "        plt.xlabel(\"Date\")\n",
        "        plt.ylabel(\"Total Spending\")\n",
        "        plt.grid(True)\n",
        "        plt.tight_layout()\n",
        "        plt.show()\n",
        "\n",
        "        plt.pie(category_totals, labels=category_totals.index, autopct=\"%1.1f%%\", startangle=90, colors=[\"#ff9999\", \"#66b3ff\", \"#99ff99\", \"#ffcc99\", \"#c2c2f0\"])\n",
        "        plt.title(\"Spending Distribution by Category\")\n",
        "        plt.axis(\"equal\")\n",
        "        plt.tight_layout()\n",
        "        plt.show()\n",
        "\n",
        "    def print_summary(self):\n",
        "        category_totals, highest, lowest, daily = self.analyze()\n",
        "\n",
        "        print(\"==== Expense Summary ====\")\n",
        "        print(\"\\nTotal spending by category:\")\n",
        "        print(category_totals)\n",
        "        print(f\"\\nYour highest spending was on: {highest} with a total of {category_totals[highest]:.2f}\")\n",
        "        print(f\"Your lowest spending was on: {lowest} with a total of {category_totals[lowest]:.2f}\")\n",
        "\n",
        "        print(\"\\nTotal spending by day:\")\n",
        "        print(daily)\n",
        "\n",
        "        print(\"\\nVisualizations have been generated for your expenses.\")\n",
        "\n",
        "\n",
        "if __name__ == \"__main__\":\n",
        "    tracker = ExpenseTracker()\n",
        "    tracker.print_summary()\n",
        "    tracker.visualize()\n"
      ]
    }
  ]
}